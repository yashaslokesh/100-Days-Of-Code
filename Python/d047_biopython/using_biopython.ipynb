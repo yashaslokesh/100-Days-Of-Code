{
 "cells": [
  {
   "cell_type": "code",
   "execution_count": 16,
   "metadata": {},
   "outputs": [],
   "source": [
    "from Bio.Seq import Seq\n",
    "from Bio.Alphabet import IUPAC"
   ]
  },
  {
   "cell_type": "code",
   "execution_count": 27,
   "metadata": {},
   "outputs": [
    {
     "name": "stdout",
     "output_type": "stream",
     "text": [
      "Sequence Length:    27\n",
      "Sequence:           ATCGTTAGCTATATAGCCTAGCTGACA, IUPACUnambiguousDNA()\n"
     ]
    }
   ],
   "source": [
    "first_seq = Seq('ATCGTTAGCTATATAGCCTAGCTGACA', IUPAC.unambiguous_dna)\n",
    "print(f'Sequence Length:    {len(first_seq)}')\n",
    "print(f'Sequence:           {first_seq}, {first_seq.alphabet}')"
   ]
  },
  {
   "cell_type": "markdown",
   "metadata": {},
   "source": [
    "We can perform operations such as the complement, reverse, reverse complement, and even slicing operations with biopython."
   ]
  },
  {
   "cell_type": "code",
   "execution_count": 28,
   "metadata": {},
   "outputs": [
    {
     "name": "stdout",
     "output_type": "stream",
     "text": [
      "Reverse:            ACAGTCGATCCGATATATCGATTGCTA\n",
      "Complement:         TAGCAATCGATATATCGGATCGACTGT\n",
      "Reverse Complement: TGTCAGCTAGGCTATATAGCTAACGAT\n"
     ]
    }
   ],
   "source": [
    "print(f'Reverse:            {first_seq[::-1]}')\n",
    "print(f'Complement:         {first_seq.complement()}')\n",
    "print(f'Reverse Complement: {first_seq.reverse_complement()}')"
   ]
  },
  {
   "cell_type": "markdown",
   "metadata": {},
   "source": [
    "Slicing sequences is an easier operation, we can just use the Python syntax for slicing Python sequences"
   ]
  },
  {
   "cell_type": "code",
   "execution_count": 29,
   "metadata": {},
   "outputs": [
    {
     "name": "stdout",
     "output_type": "stream",
     "text": [
      "Sliced DNA, from [5, 20), indexed 0: TAGCTATATAGCCTA\n"
     ]
    }
   ],
   "source": [
    "sliced = first_seq[5:20]\n",
    "print(f'Sliced DNA, from [5, 20), indexed 0: {sliced}')"
   ]
  },
  {
   "cell_type": "markdown",
   "metadata": {},
   "source": [
    "To perform transcription with our sequences, we'll transcribe the coding strand. What this means is that we change Thymine to Uracil (T -> U), because this is easier to do. "
   ]
  },
  {
   "cell_type": "code",
   "execution_count": 30,
   "metadata": {},
   "outputs": [
    {
     "name": "stdout",
     "output_type": "stream",
     "text": [
      "mRNA from first_seq: AUCGUUAGCUAUAUAGCCUAGCUGACA\n"
     ]
    }
   ],
   "source": [
    "m_rna = first_seq.transcribe()\n",
    "print(f'mRNA from first_seq: {m_rna}')"
   ]
  },
  {
   "cell_type": "code",
   "execution_count": 32,
   "metadata": {},
   "outputs": [
    {
     "name": "stdout",
     "output_type": "stream",
     "text": [
      "Protein from translation: IVSYIA*LT\n"
     ]
    }
   ],
   "source": [
    "print(f'Protein from translation: {first_seq.translate()}')"
   ]
  },
  {
   "cell_type": "markdown",
   "metadata": {},
   "source": [
    "I found an interesting protein named 'sonic hedgehog', it's used as a signalling molecule "
   ]
  }
 ],
 "metadata": {
  "kernelspec": {
   "display_name": "Python 3",
   "language": "python",
   "name": "python3"
  },
  "language_info": {
   "codemirror_mode": {
    "name": "ipython",
    "version": 3
   },
   "file_extension": ".py",
   "mimetype": "text/x-python",
   "name": "python",
   "nbconvert_exporter": "python",
   "pygments_lexer": "ipython3",
   "version": "3.6.6"
  }
 },
 "nbformat": 4,
 "nbformat_minor": 2
}
